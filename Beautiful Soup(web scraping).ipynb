{
 "cells": [
  {
   "cell_type": "code",
   "execution_count": null,
   "id": "601ead91",
   "metadata": {},
   "outputs": [],
   "source": [
    "import requests\n",
    "from bs4 import BeautifulSoup\n",
    "url= 'https://www.google.com/search?q=monish+pabrekar&rlz=1C1ONGR_enIN974IN974&oq=monish+pabrekar&aqs=chrome.0.69i59j69i61j69i60j69i61.10749j0j7&sourceid=chrome&ie=UTF-8'\n",
    "#step1=get the HTML\n",
    "r=requests.get(url)\n",
    "htmlcontent=r.content\n",
    "print(htmlcontent)\n",
    "\n",
    "#step2=parse the HTML\n",
    "soup= BeautifulSoup(htmlcontent, 'html.parser')\n",
    "print(soup.prettify)\n",
    "\n",
    "#step3=HTML tree traversal\n",
    "\n",
    "#commonly used types of object\n",
    "print(type(soup)) #1. Tag\n",
    "print(type(title)) #2. NavigableString\n",
    "print(type(title.string))#3. BeautifulSoup\n",
    "#4. Comment\n",
    "\n",
    "#Get the title of HTML page\n",
    "title=soup.title\n",
    "\n",
    "#Get the all paragraph from the page \n",
    "paras=soup.find_all(\"p\")\n",
    "print(paras)\n",
    "\n",
    "\n",
    "#Get the all anchor tags from the page \n",
    "anchors=soup.find_all(\"a\")\n",
    "print(anchors)\n",
    "\n",
    "print(soup.find('p'))\n",
    "\n",
    "print(soup.find('p')['class'])\n",
    "\n",
    "print(soup.get_text())\n",
    "\n",
    "markup=\"<p><!-- this is a comment --></p>\" \n",
    "soup2= BeautifulSoup(markup)\n",
    "print(type(soup2.p.string))\n",
    "exit()\n"
   ]
  }
 ],
 "metadata": {
  "kernelspec": {
   "display_name": "Python 3",
   "language": "python",
   "name": "python3"
  },
  "language_info": {
   "codemirror_mode": {
    "name": "ipython",
    "version": 3
   },
   "file_extension": ".py",
   "mimetype": "text/x-python",
   "name": "python",
   "nbconvert_exporter": "python",
   "pygments_lexer": "ipython3",
   "version": "3.8.8"
  }
 },
 "nbformat": 4,
 "nbformat_minor": 5
}
